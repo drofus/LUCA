{
 "cells": [
  {
   "cell_type": "markdown",
   "id": "54544a76-4cab-48a7-b5d4-8bae0b130611",
   "metadata": {},
   "source": [
    "# Datos FIDEOS\n",
    "Gracias al convenio que hubo entre la Universidad de Antioquia (Colombia) y la Universidad Católica del Norte (Chile), se trabajó con el telescopio ESO-1M ubicado en el Observatorio de La Silla, Chile. Los instrumentos son un reflector Cassegrain f/13.6, un espectrógrafo FIDEOS (Fiber Dual Echelle Optical Spectrograph). El instrumento estaba conectado al telescopio mediante una fibra óptica, lo que permite conducir la luz desde el foco Cassegrain hasta el espectrógrafo (Tala et al.,2014).\n",
    "\n",
    "## Noche del 29/ene/2022\n",
    "Para descargar los [Datos](https://archive.org/details/2022-01-28-t-225240.863973-stop-calibration) solo se hace clic y los redireccionan a una página de `archive.org` y descargan los datos.\n",
    "\n",
    "\n",
    "## Noche del 24/oct/2022\n",
    "Para descargar los [Datos](https://archive.org/details/2022-10-24-t-034728.577889-stop-image) solo se hace clic y los redireccionan a una página de `archive.org` y descargan los datos.\n",
    "\n",
    "## Noche del 17/oct/2022\n",
    "Para descargar los [Datos](https://archive.org/details/2022-10-17-t-074008.960289-stop-image) solo se hace clic y los redireccionan a una página de `archive.org` y descargan los datos.\n",
    "\n",
    "## Noche del 03/nov/2022\n",
    "Para descargar los [Datos](https://archive.org/details/2022-03-10-t-175715.383522-dark) solo se hace clic y los redireccionan a una página de `archive.org` y descargan los datos.\n",
    "\n",
    "## Noche del 21/nov/2022\n",
    "Para descargar los [Datos](https://archive.org/details/2022-11-20-t-222959.024025-bias) solo se hace clic y los redireccionan a una página de `archive.org` y descargan los datos.\n",
    "\n",
    "## Noche del 28/nov/2022\n",
    "Para descargar los [Datos](https://archive.org/details/2022-11-28-t-035327.479878-stop-calibration) solo se hace clic y los redireccionan a una página de `archive.org` y descargan los datos.\n",
    "\n",
    "## Noche del 19/dic/2022\n",
    "Para descargar los [Datos](https://archive.org/details/2022-12-18-t-234940.785598-bias) solo se hace clic y los redireccionan a una página de `archive.org` y descargan los datos.\n",
    "\n",
    "## Noche del 27/mar/2023\n",
    "Para descargar los [Datos](https://archive.org/details/2023-03-26-t-220321.695008-bias) solo se hace clic y los redireccionan a una página de `archive.org` y descargan los datos."
   ]
  }
 ],
 "metadata": {
  "kernelspec": {
   "display_name": "Python 3 (ipykernel)",
   "language": "python",
   "name": "python3"
  },
  "language_info": {
   "codemirror_mode": {
    "name": "ipython",
    "version": 3
   },
   "file_extension": ".py",
   "mimetype": "text/x-python",
   "name": "python",
   "nbconvert_exporter": "python",
   "pygments_lexer": "ipython3",
   "version": "3.11.5"
  }
 },
 "nbformat": 4,
 "nbformat_minor": 5
}

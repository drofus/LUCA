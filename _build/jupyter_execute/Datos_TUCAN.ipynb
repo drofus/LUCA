{
 "cells": [
  {
   "cell_type": "markdown",
   "id": "2dbd9988-12d1-4863-8e0a-673f611952a7",
   "metadata": {},
   "source": [
    "# Datos TUCAN\n",
    "La cámara TUCAN es una cámara CCD (*FLI ML0900*), fue instalada en el observatorio ESO-1m de la Silla en mayo 2023 por el profesor Esteban Silva. A continuación se presentaran los datos que fueron tomados en el Laboratorio Unificado de Control Astronomico (LUCA):\n",
    "\n",
    "## Noche del 01/oct/2024\n",
    "En esta noche se tomaron las siguientes imagenes de ciencia:\n",
    "- [HIP 6222](https://archive.org/details/bias-001)\n",
    "- [HIP 116408](https://archive.org/details/bias-001_202503)\n",
    "- [M 30](https://archive.org/details/bias-001_20250331)\n",
    "- [M 55](https://archive.org/details/bias-001_20250331_2231)\n",
    "- [NGC 1316](https://archive.org/details/bias-001_20250331_2256)\n",
    "- [NGC 1360](https://archive.org/details/bias-001_202504)\n",
    "- [NGC 7293](https://archive.org/details/bias-001_20250401)\n",
    "\n",
    "Para descargar los datos solo se hace clic en los nombres y los redireccionan a una página de `archive.org` y descargan los datos. Tambien puede descargar los skyflat de ese dia [aqui](https://archive.org/details/bias-001_20250401_1522).\n",
    "\n",
    "## Noche del 22/oct/2024\n",
    "En esta noche se tomaron las siguientes imagenes de ciencia:\n",
    "- [M 30](https://archive.org/details/bias-001_20250401_1627)\n",
    "- [NGC 55](https://archive.org/details/dark-001)\n",
    "\n",
    "Para descargar los datos solo se hace clic en los nombres y los redireccionan a una página de `archive.org` y descargan los datos. Tambien puede descargar los skyflat de ese dia [aqui](https://archive.org/details/bias-001_20250401_1811).\n",
    "\n",
    "## Noche del 07/nov/2024\n",
    "En esta noche se tomaron las siguientes imagenes de ciencia:\n",
    "- [HD2638](https://archive.org/details/hd-2638-dark-235-secs-001)\n",
    "- [NGC1407](https://archive.org/details/ngc-1407-dark-240-secs-001)\n",
    "- [NGC2645](https://archive.org/details/ngc-2645-dark-240-secs-005)\n",
    "- [NGC7793](https://archive.org/details/ngc-7793-dark-230-secs-002)\n",
    "- [WASP76](https://archive.org/details/wasp-76-dark-235-secs-002)\n",
    "\n",
    "Para descargar los datos solo se hace clic en los nombres y los redireccionan a una página de `archive.org` y descargan los datos. Tambien puede descargar los skyflat de ese dia [aqui](https://archive.org/details/bias-1-secs-008).\n",
    "\n",
    "## Noche del 03/dic/2024\n",
    "En esta noche se tomaron las siguientes imagenes de ciencia:\n",
    "- [LMC_COR1](https://archive.org/details/lmc-cor-1-dark-240-secs-001)\n",
    "- [LMC_COR2](https://archive.org/details/lmc-cor-2-dark-240-secs-003)\n",
    "- [MEL 25](https://archive.org/details/mel-25-dark-90-secs-004)\n",
    "- [NGC 456](https://archive.org/details/ngc-456-dark-240-secs-003)\n",
    "- [NGC 460](https://archive.org/details/ngc-460-dark-240-secs-004)\n",
    "- [SMC_COR1](https://archive.org/details/smc-cor-1-dark-240-secs-002)\n",
    "\n",
    "Para descargar los datos solo se hace clic en los nombres y los redireccionan a una página de `archive.org` y descargan los datos. Tambien puede descargar los skyflat de ese dia [aqui](https://archive.org/details/bias-011).\n",
    "\n",
    "## DomeFlat\n",
    "Aquí se encuentran los datos del domeflat [link](https://archive.org/details/domeflat_Flat_B_90_secs_001)"
   ]
  }
 ],
 "metadata": {
  "kernelspec": {
   "display_name": "Python 3 (ipykernel)",
   "language": "python",
   "name": "python3"
  },
  "language_info": {
   "codemirror_mode": {
    "name": "ipython",
    "version": 3
   },
   "file_extension": ".py",
   "mimetype": "text/x-python",
   "name": "python",
   "nbconvert_exporter": "python",
   "pygments_lexer": "ipython3",
   "version": "3.11.5"
  }
 },
 "nbformat": 4,
 "nbformat_minor": 5
}
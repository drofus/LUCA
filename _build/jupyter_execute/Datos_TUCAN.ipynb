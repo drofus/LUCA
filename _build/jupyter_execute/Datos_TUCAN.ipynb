{
 "cells": [
  {
   "cell_type": "markdown",
   "id": "2dbd9988-12d1-4863-8e0a-673f611952a7",
   "metadata": {},
   "source": [
    "# Datos TUCAN\n",
    "La cámara TUCAN es una cámara CCD (*FLI ML0900*), fue instalada en el observatorio ESO-1m de la Silla en mayo 2023 por el profesor Esteban Silva. A continuación se presentaran los datos que fueron tomados en el Laboratorio Unificado de Control Astronomico (LUCA):\n",
    "\n",
    "## Noche del 01/oct/2024\n",
    "En esta noche se tomaron las siguientes imagenes de ciencia:\n",
    "- [HIP 6222](https://archive.org/details/bias-001)\n",
    "- [HIP 116408]\n",
    "- [M 30]\n",
    "- [M 55]\n",
    "- [NGC 1316]\n",
    "- [NGC 1360]\n",
    "- [NGC 7293]\n",
    "Para descargar los datos solo se hace clic en los nombres y los redireccionan a una página de archive.org y descargan los datos. Tambien puede descargar los skyflat de ese dia aqui."
   ]
  },
  {
   "cell_type": "code",
   "execution_count": null,
   "id": "a197dabd-fab6-4ea5-968e-ef674c839223",
   "metadata": {},
   "outputs": [],
   "source": []
  }
 ],
 "metadata": {
  "kernelspec": {
   "display_name": "Python 3 (ipykernel)",
   "language": "python",
   "name": "python3"
  },
  "language_info": {
   "codemirror_mode": {
    "name": "ipython",
    "version": 3
   },
   "file_extension": ".py",
   "mimetype": "text/x-python",
   "name": "python",
   "nbconvert_exporter": "python",
   "pygments_lexer": "ipython3",
   "version": "3.11.5"
  }
 },
 "nbformat": 4,
 "nbformat_minor": 5
}